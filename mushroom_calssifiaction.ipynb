{
  "cells": [
    {
      "cell_type": "markdown",
      "metadata": {
        "id": "view-in-github",
        "colab_type": "text"
      },
      "source": [
        "<a href=\"https://colab.research.google.com/github/sadrabr/machin-learning-projects/blob/main/mushroom_calssifiaction.ipynb\" target=\"_parent\"><img src=\"https://colab.research.google.com/assets/colab-badge.svg\" alt=\"Open In Colab\"/></a>"
      ]
    },
    {
      "cell_type": "code",
      "execution_count": null,
      "metadata": {
        "id": "J0LN3tiCBjoV"
      },
      "outputs": [],
      "source": [
        "from ast import increment_lineno\n",
        "import numpy as np\n",
        "import pandas as pd\n",
        "from matplotlib import pyplot as plt\n",
        "import seaborn as sns # type: ignore\n",
        "%matplotlib inline"
      ]
    },
    {
      "cell_type": "code",
      "execution_count": null,
      "metadata": {
        "id": "FUOKXs08BjoW"
      },
      "outputs": [],
      "source": [
        "df =pd.read_csv('mushrooms.csv')\n",
        "df.head()"
      ]
    },
    {
      "cell_type": "code",
      "execution_count": null,
      "metadata": {
        "id": "KfvMqyrABjoW"
      },
      "outputs": [],
      "source": [
        "df.columns"
      ]
    },
    {
      "cell_type": "code",
      "execution_count": null,
      "metadata": {
        "id": "B14uUH2kBjoW"
      },
      "outputs": [],
      "source": [
        "df.info()"
      ]
    },
    {
      "cell_type": "code",
      "execution_count": null,
      "metadata": {
        "id": "tWls2QT4BjoW"
      },
      "outputs": [],
      "source": [
        "df.isnull().sum()"
      ]
    },
    {
      "cell_type": "code",
      "execution_count": null,
      "metadata": {
        "id": "bEd69lvGBjoW"
      },
      "outputs": [],
      "source": [
        "df.describe()"
      ]
    },
    {
      "cell_type": "code",
      "execution_count": null,
      "metadata": {
        "id": "lzf6OO6vBjoW"
      },
      "outputs": [],
      "source": [
        "df.duplicated().sum()"
      ]
    },
    {
      "cell_type": "code",
      "execution_count": null,
      "metadata": {
        "id": "TcbS34z4BjoX"
      },
      "outputs": [],
      "source": [
        "df.nunique()"
      ]
    },
    {
      "cell_type": "code",
      "execution_count": null,
      "metadata": {
        "id": "OpCjZTBiBjoX"
      },
      "outputs": [],
      "source": [
        "df.value_counts().to_frame()"
      ]
    },
    {
      "cell_type": "code",
      "execution_count": null,
      "metadata": {
        "id": "1ZE7CLU5BjoX"
      },
      "outputs": [],
      "source": [
        "df = df.drop(['veil_type'],axis=1)\n",
        "df.head()"
      ]
    },
    {
      "cell_type": "code",
      "execution_count": null,
      "metadata": {
        "id": "51tts7oCBjoX"
      },
      "outputs": [],
      "source": [
        "# skew function\n",
        "from scipy.stats import skew\n",
        "######################################################\n",
        "\n",
        "def plot_column_distributions(df):\n",
        "    n_cols = 3\n",
        "    n_rows = (len(df.columns) + n_cols - 1) // n_cols\n",
        "    fig, axes = plt.subplots(n_rows, n_cols, figsize=(n_cols*5, n_rows*4))\n",
        "\n",
        "    for i, column in enumerate(df.columns):\n",
        "        row, col = divmod(i, n_cols)\n",
        "        ax = axes[row, col]\n",
        "\n",
        "        if pd.api.types.is_numeric_dtype(df[column]):\n",
        "            sns.histplot(x=df[column], ax=ax)\n",
        "            print(f'Skewness of {column}: {skew(df[column])}')\n",
        "        else:\n",
        "            sns.countplot(x=df[column], ax=ax)\n",
        "\n",
        "        ax.set_title(column)\n",
        "\n",
        "    for i in range(len(df.columns), n_rows * n_cols):\n",
        "        fig.delaxes(axes.flatten()[i])\n",
        "\n",
        "    plt.tight_layout()\n",
        "    plt.show()"
      ]
    },
    {
      "cell_type": "code",
      "execution_count": null,
      "metadata": {
        "id": "bX4SwWweBjoX"
      },
      "outputs": [],
      "source": [
        "plot_column_distributions(df)"
      ]
    },
    {
      "cell_type": "code",
      "execution_count": null,
      "metadata": {
        "id": "DrUgzJ9PBjoX"
      },
      "outputs": [],
      "source": [
        "import category_encoders as ce\n",
        "oe = ce.OrdinalEncoder()\n",
        "df = oe.fit_transform(df)"
      ]
    },
    {
      "cell_type": "code",
      "execution_count": null,
      "metadata": {
        "id": "E9OeRNgpBjoX"
      },
      "outputs": [],
      "source": [
        "df.head()"
      ]
    },
    {
      "cell_type": "code",
      "execution_count": null,
      "metadata": {
        "id": "89qNcSmcBjoX"
      },
      "outputs": [],
      "source": [
        "from sklearn.metrics import confusion_matrix,accuracy_score,recall_score,precision_score,f1_score,classification_report\n",
        "from sklearn.model_selection import train_test_split,GridSearchCV,RandomizedSearchCV\n",
        "from sklearn.preprocessing import LabelEncoder,StandardScaler\n",
        "from sklearn.ensemble import RandomForestClassifier"
      ]
    },
    {
      "cell_type": "code",
      "execution_count": null,
      "metadata": {
        "id": "M-OIVaGqBjoX"
      },
      "outputs": [],
      "source": [
        "x = df.drop(['type'],axis=1)\n",
        "y = df['type']\n",
        "\n",
        "x_train,x_test,y_train,y_test =train_test_split(x,y,test_size=0.2,random_state=42)"
      ]
    },
    {
      "cell_type": "code",
      "execution_count": null,
      "metadata": {
        "id": "z6Mn3IWbBjoX"
      },
      "outputs": [],
      "source": [
        "scaler = StandardScaler()\n",
        "x_train = scaler.fit_transform(x_train)\n",
        "x_test = scaler.fit_transform(x_test)"
      ]
    },
    {
      "cell_type": "code",
      "execution_count": null,
      "metadata": {
        "id": "MNwB3gEYBjoX"
      },
      "outputs": [],
      "source": [
        "rf = RandomForestClassifier(random_state=42)\n",
        "rf.fit(x_train, y_train)\n",
        "y_pred = rf.predict(x_test)\n",
        "\n",
        "print(\"confusion_matrix:\\n\", confusion_matrix(y_test, y_pred))\n",
        "print(\"accuracy_score:\", accuracy_score(y_test, y_pred))\n",
        "print(\"recall_score:\", recall_score(y_test, y_pred,average='micro'))\n",
        "print(\"precision_score:\", precision_score(y_test, y_pred,average='micro'))\n",
        "print(f\"\\nClassification Report:\\n{classification_report(y_test, y_pred )}\")"
      ]
    },
    {
      "cell_type": "code",
      "execution_count": null,
      "metadata": {
        "id": "HKS6NaV6BjoY"
      },
      "outputs": [],
      "source": [
        "from sklearn.svm import SVC\n",
        "svc=SVC(C=100)\n",
        "svc.fit(x_train,y_train)\n",
        "y_pred=svc.predict(x_test)\n",
        "print(\"confusion_matrix:\\n\", confusion_matrix(y_test, y_pred))\n",
        "print(\"accuracy_score:\", accuracy_score(y_test, y_pred))\n",
        "print(\"recall_score:\", recall_score(y_test, y_pred,average='micro'))\n",
        "print(\"precision_score:\", precision_score(y_test, y_pred,average='micro'))\n",
        "print(f\"\\nClassification Report:\\n{classification_report(y_test, y_pred )}\")"
      ]
    },
    {
      "cell_type": "code",
      "execution_count": null,
      "metadata": {
        "id": "6__kGNdaBjoY"
      },
      "outputs": [],
      "source": [
        "linear_svc1000=SVC(C=1000,kernel='linear')\n",
        "linear_svc1000.fit(x_train, y_train)\n",
        "y_pred=linear_svc1000.predict(x_test)\n",
        "print(f\"accuracy score for kernel='linear' and C=1000 : {accuracy_score(y_test, y_pred):0.4f}\")"
      ]
    },
    {
      "cell_type": "code",
      "execution_count": null,
      "metadata": {
        "id": "fn4uckWABjoY"
      },
      "outputs": [],
      "source": []
    }
  ],
  "metadata": {
    "kernelspec": {
      "display_name": "Python 3",
      "language": "python",
      "name": "python3"
    },
    "language_info": {
      "codemirror_mode": {
        "name": "ipython",
        "version": 3
      },
      "file_extension": ".py",
      "mimetype": "text/x-python",
      "name": "python",
      "nbconvert_exporter": "python",
      "pygments_lexer": "ipython3",
      "version": "3.12.6"
    },
    "colab": {
      "provenance": [],
      "include_colab_link": true
    }
  },
  "nbformat": 4,
  "nbformat_minor": 0
}