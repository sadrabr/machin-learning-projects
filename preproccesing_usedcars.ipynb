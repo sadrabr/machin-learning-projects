{
  "cells": [
    {
      "cell_type": "markdown",
      "metadata": {
        "id": "view-in-github",
        "colab_type": "text"
      },
      "source": [
        "<a href=\"https://colab.research.google.com/github/sadrabr/machin-learning-projects/blob/main/preproccesing_usedcars.ipynb\" target=\"_parent\"><img src=\"https://colab.research.google.com/assets/colab-badge.svg\" alt=\"Open In Colab\"/></a>"
      ]
    },
    {
      "cell_type": "code",
      "source": [
        "from google.colab import drive\n",
        "drive.mount('/content/drive')"
      ],
      "metadata": {
        "colab": {
          "base_uri": "https://localhost:8080/"
        },
        "id": "CJazvSGSBXKZ",
        "outputId": "b830f2af-7937-4e1c-b5d7-faced379f4b3"
      },
      "execution_count": null,
      "outputs": [
        {
          "output_type": "stream",
          "name": "stdout",
          "text": [
            "Mounted at /content/drive\n"
          ]
        }
      ]
    },
    {
      "cell_type": "code",
      "execution_count": null,
      "metadata": {
        "id": "_jZcrEKdBUWl"
      },
      "outputs": [],
      "source": [
        "from ast import increment_lineno\n",
        "import numpy as np\n",
        "import pandas as pd\n",
        "from matplotlib import pyplot as plt\n",
        "import seaborn as sns # type: ignore\n",
        "%matplotlib inline"
      ]
    },
    {
      "cell_type": "code",
      "execution_count": null,
      "metadata": {
        "id": "hgtNxX7iBUWn"
      },
      "outputs": [],
      "source": [
        "df = pd.read_csv('/content/drive/MyDrive/solo_projects/datasets/used_cars.csv')\n",
        "df.head()\n",
        "df.info()\n",
        "print(df.shape)\n",
        "df = df.drop_duplicates(keep='first')\n",
        "df.shape\n",
        "df.describe()\n",
        "df.describe(exclude=[np.number])"
      ]
    },
    {
      "cell_type": "code",
      "execution_count": null,
      "metadata": {
        "id": "PP8QmzmNBUWp"
      },
      "outputs": [],
      "source": [
        "df.columns\n",
        "# df.dtypes\n"
      ]
    },
    {
      "cell_type": "code",
      "execution_count": null,
      "metadata": {
        "id": "wV__ZL9yBUWp"
      },
      "outputs": [],
      "source": [
        "df.nunique()\n",
        "df['owner'].value_counts().to_frame()\n",
        "df['mileage'].value_counts().to_frame()\n",
        "df['km_driven'].value_counts().to_frame()"
      ]
    },
    {
      "cell_type": "code",
      "execution_count": null,
      "metadata": {
        "id": "O5WCOd1nBUWq"
      },
      "outputs": [],
      "source": [
        "df = df.drop(['mileage'],axis=1)\n",
        "df.head()"
      ]
    },
    {
      "cell_type": "markdown",
      "metadata": {
        "id": "qsThJJKqBUWr"
      },
      "source": [
        "# Handeling missing value"
      ]
    },
    {
      "cell_type": "code",
      "execution_count": null,
      "metadata": {
        "id": "RmyE0OzzBUWs"
      },
      "outputs": [],
      "source": [
        "df.isnull().sum()"
      ]
    },
    {
      "cell_type": "code",
      "execution_count": null,
      "metadata": {
        "id": "ipZMTwViBUWs"
      },
      "outputs": [],
      "source": [
        "df_numeric_features = df.select_dtypes(include=['number'])\n",
        "print(f\"Numeric Features :\\n{df_numeric_features}\\n\")\n",
        "\n",
        "df_object_features= df.select_dtypes(include=['object'])\n",
        "print(f\"Object Features :\\n{df_object_features}\\n\")"
      ]
    },
    {
      "cell_type": "code",
      "execution_count": null,
      "metadata": {
        "id": "lSXIqavuBUWt"
      },
      "outputs": [],
      "source": [
        "from sklearn.impute import SimpleImputer\n",
        "\n",
        "imputer1 = SimpleImputer(strategy='most_frequent')\n",
        "df_numeric_features = pd.DataFrame(imputer1.fit_transform(df_numeric_features), columns=df_numeric_features.columns)\n",
        "\n",
        "df_object_features = pd.DataFrame(imputer1.fit_transform(df_object_features), columns=df_object_features.columns)\n",
        "df_object_features.isnull().sum()"
      ]
    },
    {
      "cell_type": "markdown",
      "metadata": {
        "id": "7OKElPcTBUWt"
      },
      "source": [
        "## Handling Outlier data"
      ]
    },
    {
      "cell_type": "code",
      "execution_count": null,
      "metadata": {
        "id": "ePzvoHEBBUWu"
      },
      "outputs": [],
      "source": [
        "def find_outliers(column):\n",
        "    Q1 = column.quantile(0.25)\n",
        "    Q3 = column.quantile(0.75)\n",
        "    IQR = Q3 - Q1\n",
        "    lower_bound = Q1 - 1.5 * IQR\n",
        "    upper_bound = Q3 + 1.5 * IQR\n",
        "    return column[(column < lower_bound) | ( upper_bound < column)]\n",
        "\n",
        "for i, column in enumerate(df_numeric_features.columns):\n",
        "    outliers = find_outliers(df_numeric_features[column])\n",
        "    if(outliers.size>0):\n",
        "      print(f\"outliers - {column} :\\n{outliers}\")"
      ]
    },
    {
      "cell_type": "code",
      "execution_count": null,
      "metadata": {
        "id": "tB8mMzKuBUWv"
      },
      "outputs": [],
      "source": [
        "import scipy.stats as stats\n",
        "\n",
        "df_numeric_features['zscore_year'] = stats.zscore(df_numeric_features['year'])\n",
        "df_numeric_features['zscore_selling_price'] = stats.zscore(df_numeric_features['selling_price'])\n",
        "df_numeric_features.head()"
      ]
    },
    {
      "cell_type": "code",
      "execution_count": null,
      "metadata": {
        "id": "7And0MVdBUWv"
      },
      "outputs": [],
      "source": [
        "# Normalization"
      ]
    },
    {
      "cell_type": "code",
      "execution_count": null,
      "metadata": {
        "vscode": {
          "languageId": "javascript"
        },
        "id": "1a58ON9XBUWv"
      },
      "outputs": [],
      "source": [
        "df_numeric_features.reset_index(drop=True, inplace=True)\n",
        "df_object_features.reset_index(drop=True, inplace=True)\n",
        "\n",
        "print(\"null num\", df_object_features.isnull().sum())\n",
        "df = pd.concat([df_object_features,df_numeric_features], axis=1)\n"
      ]
    },
    {
      "cell_type": "code",
      "execution_count": null,
      "metadata": {
        "vscode": {
          "languageId": "javascript"
        },
        "id": "8c1Jds7yBUWw"
      },
      "outputs": [],
      "source": [
        "df=df[(-3< df['zscore_year']) & (df['zscore_year']<3) & (-3< df['zscore_selling_price']) & (df['zscore_selling_price']<3)]\n",
        "df.head()"
      ]
    },
    {
      "cell_type": "code",
      "execution_count": null,
      "metadata": {
        "vscode": {
          "languageId": "javascript"
        },
        "id": "pH7sDNtrBUWw"
      },
      "outputs": [],
      "source": [
        "df = df.drop(['zscore_year','zscore_selling_price'],axis=1)"
      ]
    },
    {
      "cell_type": "markdown",
      "metadata": {
        "id": "WCBtp5TfBUWw"
      },
      "source": [
        "# convert datatype"
      ]
    },
    {
      "cell_type": "code",
      "execution_count": null,
      "metadata": {
        "id": "kUh9OGkvBUWw"
      },
      "outputs": [],
      "source": [
        "df.dtypes\n"
      ]
    },
    {
      "cell_type": "code",
      "execution_count": null,
      "metadata": {
        "id": "TMyevh2wBUWx"
      },
      "outputs": [],
      "source": [
        "df['year'] = df['year'].astype(int)\n",
        "df['selling_price'] = df['selling_price'].astype(int)\n",
        "df['km_driven'] = df['km_driven'].astype(int)\n",
        "df['seats'] = df['seats'].astype(int)\n",
        "df.dtypes"
      ]
    },
    {
      "cell_type": "markdown",
      "metadata": {
        "id": "HKXckzJEBUWx"
      },
      "source": [
        "# Transformation and column Distribution and Skew"
      ]
    },
    {
      "cell_type": "code",
      "execution_count": null,
      "metadata": {
        "id": "ZdAgsSOpBUWx"
      },
      "outputs": [],
      "source": [
        "# df['']"
      ]
    },
    {
      "cell_type": "code",
      "execution_count": null,
      "metadata": {
        "id": "BIGHEmVMBUWx"
      },
      "outputs": [],
      "source": [
        "df.nunique()"
      ]
    },
    {
      "cell_type": "markdown",
      "metadata": {
        "id": "my-7ifb6BUWx"
      },
      "source": [
        "# LabelEcoding"
      ]
    },
    {
      "cell_type": "code",
      "execution_count": null,
      "metadata": {
        "id": "BcpiXActBUWy"
      },
      "outputs": [],
      "source": [
        "from sklearn.preprocessing import LabelEncoder\n",
        "\n",
        "label_encoder = LabelEncoder()\n",
        "encoded_series1 = pd.Series(label_encoder.fit_transform(df['fuel']),name='fuel')\n",
        "encoded_series1 = encoded_series1.reset_index(drop=True)\n",
        "encoded_series2 = pd.Series(label_encoder.fit_transform(df['seller_type']),name='seller_type')\n",
        "encoded_series2 = encoded_series2.reset_index(drop=True)\n",
        "encoded_series3 = pd.Series(label_encoder.fit_transform(df['seats']),name='seats')\n",
        "encoded_series3 = encoded_series3.reset_index(drop=True)\n",
        "encoded_series4 = pd.Series(label_encoder.fit_transform(df['transmission']),name='transmission')\n",
        "encoded_series4 = encoded_series4.reset_index(drop=True)\n",
        "encoded_series5 = pd.Series(label_encoder.fit_transform(df['owner']),name='owner')\n",
        "encoded_series5 = encoded_series5.reset_index(drop=True)\n",
        "df.reset_index(drop=True,inplace=True)\n",
        "df = pd.concat([df.drop(['fuel','seller_type','seats','transmission','owner'],axis=1),encoded_series1,encoded_series2,encoded_series3,encoded_series4,encoded_series5],axis=1)\n",
        "df.head()"
      ]
    },
    {
      "cell_type": "code",
      "execution_count": null,
      "metadata": {
        "id": "_xMULS1XBUWy"
      },
      "outputs": [],
      "source": [
        "engines = []\n",
        "for engine in df.engine:\n",
        "    engine = engine.replace('CC','')\n",
        "    engines.append(engine)\n",
        "df.engine = engines\n",
        "\n",
        "max_powers = []\n",
        "for max_power in df.max_power:\n",
        "    max_power = max_power.replace('bhp','')\n",
        "    max_powers.append(max_power)\n",
        "df.max_power = max_powers\n",
        "df.head()"
      ]
    },
    {
      "cell_type": "code",
      "execution_count": null,
      "metadata": {
        "id": "FjpNqx5mBUWy"
      },
      "outputs": [],
      "source": [
        "import math\n",
        "df.engine = df.engine.astype(int)\n",
        "df.max_power = df.max_power.astype(float)\n",
        "max_powers = []\n",
        "for max_power in df.max_power:\n",
        "    max_power = math.floor(max_power)\n",
        "    max_powers.append(max_power)\n",
        "df.max_power = max_powers\n",
        "df.dtypes"
      ]
    },
    {
      "cell_type": "code",
      "execution_count": null,
      "metadata": {
        "id": "FrPdP6gJBUWy"
      },
      "outputs": [],
      "source": [
        "df = df.drop(['torque','name'],axis=1)\n",
        "df.head(10)"
      ]
    },
    {
      "cell_type": "code",
      "execution_count": null,
      "metadata": {
        "id": "wcJbiQhUBUWz"
      },
      "outputs": [],
      "source": [
        "# df.torque.value_counts().to_frame()"
      ]
    },
    {
      "cell_type": "markdown",
      "metadata": {
        "id": "0UpUodgcBUWz"
      },
      "source": [
        "# Divide the data into training and test data"
      ]
    },
    {
      "cell_type": "code",
      "execution_count": null,
      "metadata": {
        "id": "bwzIVDA-BUWz"
      },
      "outputs": [],
      "source": [
        "from sklearn.model_selection import train_test_split\n",
        "X = df.drop('selling_price', axis=1)\n",
        "y = df['selling_price']\n",
        "X_train, X_test, y_train, y_test = train_test_split(X,y,test_size=0.2,train_size=0.8, random_state =0)\n",
        "X_train.shape , X_test.shape , y_train.shape , y_test.shape"
      ]
    },
    {
      "cell_type": "markdown",
      "metadata": {
        "id": "RUIbvjwEBUWz"
      },
      "source": [
        "# single Linear Regression"
      ]
    },
    {
      "cell_type": "code",
      "execution_count": null,
      "metadata": {
        "id": "ZNQK1ghnBUWz"
      },
      "outputs": [],
      "source": [
        "from sklearn.linear_model import LinearRegression\n",
        "from sklearn.metrics import mean_squared_error, r2_score\n",
        "\n",
        "X_train_single = X_train[['max_power']]\n",
        "X_test_single = X_test[['max_power']]\n",
        "\n",
        "slr_model = LinearRegression()\n",
        "slr_model.fit(X_train_single, y_train)\n",
        "\n",
        "y_pred_single = slr_model.predict(X_test_single)\n",
        "\n",
        "mse_single = mean_squared_error(y_test, y_pred_single)\n",
        "r2_single = r2_score(y_test, y_pred_single)\n",
        "\n",
        "print(f\"MSE: {mse_single}\")\n",
        "print(f\"R2: {r2_single}\")"
      ]
    },
    {
      "cell_type": "markdown",
      "metadata": {
        "id": "noZwRVJJBUW0"
      },
      "source": [
        "# Multiple Linear Regression"
      ]
    },
    {
      "cell_type": "code",
      "execution_count": null,
      "metadata": {
        "id": "iy51uUNDBUW0"
      },
      "outputs": [],
      "source": [
        "mlr_model = LinearRegression()\n",
        "mlr_model.fit(X_train, y_train)\n",
        "\n",
        "y_pred_multi = mlr_model.predict(X_test)\n",
        "\n",
        "mse_multi = mean_squared_error(y_test, y_pred_multi)\n",
        "r2_multi = r2_score(y_test, y_pred_multi)\n",
        "\n",
        "print(f\"MSE: {mse_multi}\")\n",
        "print(f\"R2: {r2_multi}\")"
      ]
    },
    {
      "cell_type": "markdown",
      "metadata": {
        "id": "QxEk-AQlBUW0"
      },
      "source": [
        "# Polynomial Regression"
      ]
    },
    {
      "cell_type": "code",
      "execution_count": null,
      "metadata": {
        "id": "cTyshA8ZBUW0",
        "outputId": "924c6827-cf69-4956-c9a9-ed80fad9ea85"
      },
      "outputs": [
        {
          "name": "stdout",
          "output_type": "stream",
          "text": [
            "Polynomial Regression (Degree 2) - MSE: 15137590151.312517, R2: 0.8447682097690186\n"
          ]
        }
      ],
      "source": [
        "from sklearn.preprocessing import PolynomialFeatures\n",
        "from sklearn.pipeline import make_pipeline\n",
        "\n",
        "poly_features = PolynomialFeatures(degree=2)\n",
        "poly_model = make_pipeline(poly_features, LinearRegression())\n",
        "\n",
        "poly_model.fit(X_train, y_train)\n",
        "\n",
        "y_pred_poly = poly_model.predict(X_test)\n",
        "\n",
        "mse_poly = mean_squared_error(y_test, y_pred_poly)\n",
        "r2_poly = r2_score(y_test, y_pred_poly)\n",
        "\n",
        "print(f\"Polynomial Regression (Degree {2}) - MSE: {mse_poly}, R2: {r2_poly}\")"
      ]
    },
    {
      "cell_type": "code",
      "execution_count": null,
      "metadata": {
        "id": "4B3omz_aBUW0"
      },
      "outputs": [],
      "source": [
        "from sklearn.model_selection import RandomizedSearchCV"
      ]
    },
    {
      "cell_type": "code",
      "execution_count": null,
      "metadata": {
        "id": "TcaGWQY9BUW1"
      },
      "outputs": [],
      "source": [
        "from sklearn.linear_model import Ridge,Lasso,ElasticNet"
      ]
    },
    {
      "cell_type": "code",
      "execution_count": null,
      "metadata": {
        "id": "yb9noQr7BUW1"
      },
      "outputs": [],
      "source": [
        "import warnings\n",
        "warnings.filterwarnings('ignore')"
      ]
    },
    {
      "cell_type": "code",
      "execution_count": null,
      "metadata": {
        "id": "9Ht-4QvVBUW-",
        "outputId": "176e0854-b288-488a-b405-db8f906efe92"
      },
      "outputs": [
        {
          "name": "stdout",
          "output_type": "stream",
          "text": [
            "Fitting 5 folds for each of 3 candidates, totalling 15 fits\n",
            "[CV 1/5] END ..........alpha=0.01, l1_ratio=0.2;, score=0.738 total time=   0.0s\n",
            "[CV 2/5] END ..........alpha=0.01, l1_ratio=0.2;, score=0.723 total time=   0.0s\n",
            "[CV 3/5] END ..........alpha=0.01, l1_ratio=0.2;, score=0.694 total time=   0.0s\n",
            "[CV 4/5] END ..........alpha=0.01, l1_ratio=0.2;, score=0.678 total time=   0.0s\n",
            "[CV 5/5] END ..........alpha=0.01, l1_ratio=0.2;, score=0.717 total time=   0.0s\n",
            "[CV 1/5] END alpha=0.001, l1_ratio=0.30000000000000004;, score=0.738 total time=   0.0s\n",
            "[CV 2/5] END alpha=0.001, l1_ratio=0.30000000000000004;, score=0.723 total time=   0.0s\n",
            "[CV 3/5] END alpha=0.001, l1_ratio=0.30000000000000004;, score=0.693 total time=   0.0s\n",
            "[CV 4/5] END alpha=0.001, l1_ratio=0.30000000000000004;, score=0.679 total time=   0.0s\n",
            "[CV 5/5] END alpha=0.001, l1_ratio=0.30000000000000004;, score=0.718 total time=   0.0s\n",
            "[CV 1/5] END ........alpha=0.0001, l1_ratio=0.2;, score=0.738 total time=   0.0s\n",
            "[CV 2/5] END ........alpha=0.0001, l1_ratio=0.2;, score=0.723 total time=   0.0s\n",
            "[CV 3/5] END ........alpha=0.0001, l1_ratio=0.2;, score=0.693 total time=   0.0s\n",
            "[CV 4/5] END ........alpha=0.0001, l1_ratio=0.2;, score=0.679 total time=   0.0s\n",
            "[CV 5/5] END ........alpha=0.0001, l1_ratio=0.2;, score=0.718 total time=   0.0s\n",
            "random search : \n",
            "================================\n",
            "best parameters :{'l1_ratio': 0.30000000000000004, 'alpha': 0.001}\n",
            "best r2_score :0.7102027346283655\n"
          ]
        }
      ],
      "source": [
        "model = ElasticNet()\n",
        "param={\n",
        "    'alpha':[1e-4,1e-3,1e-2,np.arange(0.1,1.1,0.1)],\n",
        "    'l1_ratio':np.arange(0.1,0.9,0.1)\n",
        "}\n",
        "random_serch = RandomizedSearchCV(\n",
        "    estimator=model,\n",
        "    param_distributions = param,\n",
        "    scoring = 'r2',\n",
        "    cv = 5,\n",
        "    n_iter = 3,\n",
        "    verbose = 3\n",
        ")\n",
        "random_serch.fit(X_train,y_train)\n",
        "print(\"random search : \\n================================\")\n",
        "print(f\"best parameters :{random_serch.best_params_}\")\n",
        "print(f\"best r2_score :{random_serch.best_score_}\")"
      ]
    },
    {
      "cell_type": "code",
      "execution_count": null,
      "metadata": {
        "id": "naBnbSszBUW_"
      },
      "outputs": [],
      "source": [
        "model = Lasso()\n",
        "lasso_parameters = {\n",
        " 'alpha': np.arange(0.00, 1.0, 0.01)\n",
        " }\n",
        "random_serch = RandomizedSearchCV(\n",
        "    estimator=model,\n",
        "    param_distributions = lasso_parameters,\n",
        "    scoring = 'r2',\n",
        "    cv = 5,\n",
        "    n_iter = 3,\n",
        "    verbose = 3\n",
        ")\n",
        "random_serch.fit(X_train,y_train)\n",
        "print(\"random search : \\n================================\")\n",
        "print(f\"best parameters :{random_serch.best_params_}\")\n",
        "print(f\"best r2_score :{random_serch.best_score_}\")"
      ]
    },
    {
      "cell_type": "code",
      "execution_count": null,
      "metadata": {
        "id": "3CdI4JUzBUW_",
        "outputId": "281bc15d-8141-4242-9ed5-f440b5d3f2e6"
      },
      "outputs": [
        {
          "name": "stdout",
          "output_type": "stream",
          "text": [
            "Fitting 5 folds for each of 3 candidates, totalling 15 fits\n",
            "[CV 1/5] END ...........alpha=0.88, solver=auto;, score=0.738 total time=   0.0s\n",
            "[CV 2/5] END ...........alpha=0.88, solver=auto;, score=0.723 total time=   0.0s\n",
            "[CV 3/5] END ...........alpha=0.88, solver=auto;, score=0.693 total time=   0.0s\n",
            "[CV 4/5] END ...........alpha=0.88, solver=auto;, score=0.679 total time=   0.0s\n",
            "[CV 5/5] END ...........alpha=0.88, solver=auto;, score=0.718 total time=   0.0s\n",
            "[CV 1/5] END ............alpha=0.33, solver=svd;, score=0.738 total time=   0.0s\n",
            "[CV 2/5] END ............alpha=0.33, solver=svd;, score=0.723 total time=   0.0s\n",
            "[CV 3/5] END ............alpha=0.33, solver=svd;, score=0.693 total time=   0.0s\n",
            "[CV 4/5] END ............alpha=0.33, solver=svd;, score=0.679 total time=   0.0s\n",
            "[CV 5/5] END ............alpha=0.33, solver=svd;, score=0.718 total time=   0.0s\n",
            "[CV 1/5] END ...........alpha=0.34, solver=saga;, score=0.052 total time=   0.4s\n",
            "[CV 2/5] END ...........alpha=0.34, solver=saga;, score=0.082 total time=   0.4s\n",
            "[CV 3/5] END ...........alpha=0.34, solver=saga;, score=0.082 total time=   0.4s\n",
            "[CV 4/5] END ...........alpha=0.34, solver=saga;, score=0.058 total time=   0.4s\n",
            "[CV 5/5] END ...........alpha=0.34, solver=saga;, score=0.075 total time=   0.4s\n",
            "random search : \n",
            "================================\n",
            "best parameters :{'solver': 'auto', 'alpha': 0.88}\n",
            "best r2_score :0.7101991549376236\n"
          ]
        }
      ],
      "source": [
        "model = Ridge()\n",
        "lasso_parameters = {\n",
        " 'alpha': np.arange(0.00, 1.0, 0.01),\n",
        " 'solver': ['auto', 'svd', 'cholesky', 'lsqr', 'sparse_cg', 'sag', 'saga', 'lbfgs']\n",
        " }\n",
        "random_serch = RandomizedSearchCV(\n",
        "    estimator=model,\n",
        "    param_distributions = lasso_parameters,\n",
        "    scoring = 'r2',\n",
        "    cv = 5,\n",
        "    n_iter = 3,\n",
        "    verbose = 3\n",
        ")\n",
        "random_serch.fit(X_train,y_train)\n",
        "print(\"random search : \\n================================\")\n",
        "print(f\"best parameters :{random_serch.best_params_}\")\n",
        "print(f\"best r2_score :{random_serch.best_score_}\")"
      ]
    },
    {
      "cell_type": "code",
      "execution_count": null,
      "metadata": {
        "id": "PlyvlxA5BUW_"
      },
      "outputs": [],
      "source": []
    }
  ],
  "metadata": {
    "kernelspec": {
      "display_name": "Python 3",
      "language": "python",
      "name": "python3"
    },
    "language_info": {
      "codemirror_mode": {
        "name": "ipython",
        "version": 3
      },
      "file_extension": ".py",
      "mimetype": "text/x-python",
      "name": "python",
      "nbconvert_exporter": "python",
      "pygments_lexer": "ipython3",
      "version": "3.12.6"
    },
    "colab": {
      "provenance": [],
      "include_colab_link": true
    }
  },
  "nbformat": 4,
  "nbformat_minor": 0
}