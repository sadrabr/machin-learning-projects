{
  "cells": [
    {
      "cell_type": "markdown",
      "metadata": {
        "id": "view-in-github",
        "colab_type": "text"
      },
      "source": [
        "<a href=\"https://colab.research.google.com/github/sadrabr/machin-learning-projects/blob/main/fetal_health.ipynb\" target=\"_parent\"><img src=\"https://colab.research.google.com/assets/colab-badge.svg\" alt=\"Open In Colab\"/></a>"
      ]
    },
    {
      "cell_type": "code",
      "execution_count": null,
      "metadata": {
        "id": "PVLhjZC_m0cP"
      },
      "outputs": [],
      "source": [
        "from ast import increment_lineno\n",
        "import numpy as np\n",
        "import pandas as pd\n",
        "from matplotlib import pyplot as plt\n",
        "import seaborn as sns # type: ignore\n",
        "%matplotlib inline"
      ]
    },
    {
      "cell_type": "code",
      "execution_count": null,
      "metadata": {
        "id": "L4AR9y0zm0cV"
      },
      "outputs": [],
      "source": [
        "import warnings\n",
        "warnings.filterwarnings('ignore')"
      ]
    },
    {
      "cell_type": "code",
      "execution_count": null,
      "metadata": {
        "id": "KS3I3jkom0cW",
        "outputId": "5ab0ca55-e0c0-444c-9b52-6efe55e92150"
      },
      "outputs": [
        {
          "data": {
            "text/html": [
              "<div>\n",
              "<style scoped>\n",
              "    .dataframe tbody tr th:only-of-type {\n",
              "        vertical-align: middle;\n",
              "    }\n",
              "\n",
              "    .dataframe tbody tr th {\n",
              "        vertical-align: top;\n",
              "    }\n",
              "\n",
              "    .dataframe thead th {\n",
              "        text-align: right;\n",
              "    }\n",
              "</style>\n",
              "<table border=\"1\" class=\"dataframe\">\n",
              "  <thead>\n",
              "    <tr style=\"text-align: right;\">\n",
              "      <th></th>\n",
              "      <th>id</th>\n",
              "      <th>full_name</th>\n",
              "      <th>age</th>\n",
              "      <th>gender</th>\n",
              "      <th>smoking_status</th>\n",
              "      <th>bmi</th>\n",
              "      <th>blood_pressure</th>\n",
              "      <th>glucose_levels</th>\n",
              "      <th>condition</th>\n",
              "    </tr>\n",
              "  </thead>\n",
              "  <tbody>\n",
              "    <tr>\n",
              "      <th>0</th>\n",
              "      <td>1</td>\n",
              "      <td>User0001</td>\n",
              "      <td>NaN</td>\n",
              "      <td>male</td>\n",
              "      <td>Non-Smoker</td>\n",
              "      <td>NaN</td>\n",
              "      <td>NaN</td>\n",
              "      <td>NaN</td>\n",
              "      <td>Pneumonia</td>\n",
              "    </tr>\n",
              "    <tr>\n",
              "      <th>1</th>\n",
              "      <td>2</td>\n",
              "      <td>User0002</td>\n",
              "      <td>30.0</td>\n",
              "      <td>male</td>\n",
              "      <td>Non-Smoker</td>\n",
              "      <td>NaN</td>\n",
              "      <td>105.315064</td>\n",
              "      <td>NaN</td>\n",
              "      <td>Diabetic</td>\n",
              "    </tr>\n",
              "    <tr>\n",
              "      <th>2</th>\n",
              "      <td>3</td>\n",
              "      <td>User0003</td>\n",
              "      <td>18.0</td>\n",
              "      <td>male</td>\n",
              "      <td>Non-Smoker</td>\n",
              "      <td>35.612486</td>\n",
              "      <td>NaN</td>\n",
              "      <td>NaN</td>\n",
              "      <td>Pneumonia</td>\n",
              "    </tr>\n",
              "    <tr>\n",
              "      <th>3</th>\n",
              "      <td>4</td>\n",
              "      <td>User0004</td>\n",
              "      <td>NaN</td>\n",
              "      <td>male</td>\n",
              "      <td>Non-Smoker</td>\n",
              "      <td>NaN</td>\n",
              "      <td>99.119829</td>\n",
              "      <td>NaN</td>\n",
              "      <td>Pneumonia</td>\n",
              "    </tr>\n",
              "    <tr>\n",
              "      <th>4</th>\n",
              "      <td>5</td>\n",
              "      <td>User0005</td>\n",
              "      <td>76.0</td>\n",
              "      <td>male</td>\n",
              "      <td>Non-Smoker</td>\n",
              "      <td>NaN</td>\n",
              "      <td>NaN</td>\n",
              "      <td>NaN</td>\n",
              "      <td>Diabetic</td>\n",
              "    </tr>\n",
              "  </tbody>\n",
              "</table>\n",
              "</div>"
            ],
            "text/plain": [
              "   id full_name   age gender smoking_status        bmi  blood_pressure  \\\n",
              "0   1  User0001   NaN   male     Non-Smoker        NaN             NaN   \n",
              "1   2  User0002  30.0   male     Non-Smoker        NaN      105.315064   \n",
              "2   3  User0003  18.0   male     Non-Smoker  35.612486             NaN   \n",
              "3   4  User0004   NaN   male     Non-Smoker        NaN       99.119829   \n",
              "4   5  User0005  76.0   male     Non-Smoker        NaN             NaN   \n",
              "\n",
              "   glucose_levels  condition  \n",
              "0             NaN  Pneumonia  \n",
              "1             NaN   Diabetic  \n",
              "2             NaN  Pneumonia  \n",
              "3             NaN  Pneumonia  \n",
              "4             NaN   Diabetic  "
            ]
          },
          "execution_count": 4,
          "metadata": {},
          "output_type": "execute_result"
        }
      ],
      "source": [
        "df = pd.read_csv('medical_conditions_dataset.csv')\n",
        "df.head()"
      ]
    },
    {
      "cell_type": "code",
      "execution_count": null,
      "metadata": {
        "id": "w6LgfixOm0cX",
        "outputId": "92a94607-c8a3-44c1-e282-80bd60cabc1f"
      },
      "outputs": [
        {
          "data": {
            "text/plain": [
              "id                10000\n",
              "full_name         10000\n",
              "age                  72\n",
              "gender                2\n",
              "smoking_status        2\n",
              "bmi                4652\n",
              "blood_pressure     3766\n",
              "glucose_levels     4756\n",
              "condition             3\n",
              "dtype: int64"
            ]
          },
          "execution_count": 5,
          "metadata": {},
          "output_type": "execute_result"
        }
      ],
      "source": [
        "df.nunique()"
      ]
    },
    {
      "cell_type": "code",
      "execution_count": null,
      "metadata": {
        "id": "V49QxhP7m0cY",
        "outputId": "2f87a0da-58bf-48e0-cd9e-a9576a1a5225"
      },
      "outputs": [
        {
          "data": {
            "text/plain": [
              "id                   0\n",
              "full_name            0\n",
              "age               4555\n",
              "gender               0\n",
              "smoking_status       0\n",
              "bmi               5348\n",
              "blood_pressure    6234\n",
              "glucose_levels    5244\n",
              "condition            0\n",
              "dtype: int64"
            ]
          },
          "execution_count": 6,
          "metadata": {},
          "output_type": "execute_result"
        }
      ],
      "source": [
        "df.isnull().sum()"
      ]
    },
    {
      "cell_type": "code",
      "execution_count": null,
      "metadata": {
        "id": "zlbuplXym0cZ",
        "outputId": "b0031d32-0079-4a3f-c64c-e021e25b8043"
      },
      "outputs": [
        {
          "data": {
            "text/plain": [
              "id                                                         50005000\n",
              "full_name         User0001User0002User0003User0004User0005User00...\n",
              "age                                                        291534.0\n",
              "gender            malemalemalemalemalemalemalemalemalemalefemale...\n",
              "smoking_status    Non-SmokerNon-SmokerNon-SmokerNon-SmokerNon-Sm...\n",
              "bmi                                                   127573.749242\n",
              "blood_pressure                                         509198.70846\n",
              "glucose_levels                                        643104.457728\n",
              "condition         PneumoniaDiabeticPneumoniaPneumoniaDiabeticDia...\n",
              "dtype: object"
            ]
          },
          "execution_count": 7,
          "metadata": {},
          "output_type": "execute_result"
        }
      ],
      "source": [
        "df.drop_duplicates().sum()"
      ]
    },
    {
      "cell_type": "code",
      "execution_count": null,
      "metadata": {
        "id": "VTdd2DBGm0cZ",
        "outputId": "a7d83d8a-3f48-46ea-f2e5-95f4ba0f70f9"
      },
      "outputs": [
        {
          "data": {
            "text/html": [
              "<div>\n",
              "<style scoped>\n",
              "    .dataframe tbody tr th:only-of-type {\n",
              "        vertical-align: middle;\n",
              "    }\n",
              "\n",
              "    .dataframe tbody tr th {\n",
              "        vertical-align: top;\n",
              "    }\n",
              "\n",
              "    .dataframe thead th {\n",
              "        text-align: right;\n",
              "    }\n",
              "</style>\n",
              "<table border=\"1\" class=\"dataframe\">\n",
              "  <thead>\n",
              "    <tr style=\"text-align: right;\">\n",
              "      <th></th>\n",
              "      <th>id</th>\n",
              "      <th>full_name</th>\n",
              "      <th>age</th>\n",
              "      <th>gender</th>\n",
              "      <th>smoking_status</th>\n",
              "      <th>bmi</th>\n",
              "      <th>blood_pressure</th>\n",
              "      <th>glucose_levels</th>\n",
              "      <th>condition</th>\n",
              "    </tr>\n",
              "  </thead>\n",
              "  <tbody>\n",
              "    <tr>\n",
              "      <th>0</th>\n",
              "      <td>1</td>\n",
              "      <td>User0001</td>\n",
              "      <td>NaN</td>\n",
              "      <td>male</td>\n",
              "      <td>Non-Smoker</td>\n",
              "      <td>NaN</td>\n",
              "      <td>NaN</td>\n",
              "      <td>NaN</td>\n",
              "      <td>Pneumonia</td>\n",
              "    </tr>\n",
              "    <tr>\n",
              "      <th>1</th>\n",
              "      <td>2</td>\n",
              "      <td>User0002</td>\n",
              "      <td>30.0</td>\n",
              "      <td>male</td>\n",
              "      <td>Non-Smoker</td>\n",
              "      <td>NaN</td>\n",
              "      <td>105.315064</td>\n",
              "      <td>NaN</td>\n",
              "      <td>Diabetic</td>\n",
              "    </tr>\n",
              "    <tr>\n",
              "      <th>2</th>\n",
              "      <td>3</td>\n",
              "      <td>User0003</td>\n",
              "      <td>18.0</td>\n",
              "      <td>male</td>\n",
              "      <td>Non-Smoker</td>\n",
              "      <td>35.612486</td>\n",
              "      <td>NaN</td>\n",
              "      <td>NaN</td>\n",
              "      <td>Pneumonia</td>\n",
              "    </tr>\n",
              "    <tr>\n",
              "      <th>3</th>\n",
              "      <td>4</td>\n",
              "      <td>User0004</td>\n",
              "      <td>NaN</td>\n",
              "      <td>male</td>\n",
              "      <td>Non-Smoker</td>\n",
              "      <td>NaN</td>\n",
              "      <td>99.119829</td>\n",
              "      <td>NaN</td>\n",
              "      <td>Pneumonia</td>\n",
              "    </tr>\n",
              "    <tr>\n",
              "      <th>4</th>\n",
              "      <td>5</td>\n",
              "      <td>User0005</td>\n",
              "      <td>76.0</td>\n",
              "      <td>male</td>\n",
              "      <td>Non-Smoker</td>\n",
              "      <td>NaN</td>\n",
              "      <td>NaN</td>\n",
              "      <td>NaN</td>\n",
              "      <td>Diabetic</td>\n",
              "    </tr>\n",
              "    <tr>\n",
              "      <th>...</th>\n",
              "      <td>...</td>\n",
              "      <td>...</td>\n",
              "      <td>...</td>\n",
              "      <td>...</td>\n",
              "      <td>...</td>\n",
              "      <td>...</td>\n",
              "      <td>...</td>\n",
              "      <td>...</td>\n",
              "      <td>...</td>\n",
              "    </tr>\n",
              "    <tr>\n",
              "      <th>9995</th>\n",
              "      <td>9996</td>\n",
              "      <td>User9996</td>\n",
              "      <td>NaN</td>\n",
              "      <td>male</td>\n",
              "      <td>Non-Smoker</td>\n",
              "      <td>25.029002</td>\n",
              "      <td>152.540355</td>\n",
              "      <td>137.551451</td>\n",
              "      <td>Pneumonia</td>\n",
              "    </tr>\n",
              "    <tr>\n",
              "      <th>9996</th>\n",
              "      <td>9997</td>\n",
              "      <td>User9997</td>\n",
              "      <td>NaN</td>\n",
              "      <td>male</td>\n",
              "      <td>Non-Smoker</td>\n",
              "      <td>27.017487</td>\n",
              "      <td>NaN</td>\n",
              "      <td>NaN</td>\n",
              "      <td>Diabetic</td>\n",
              "    </tr>\n",
              "    <tr>\n",
              "      <th>9997</th>\n",
              "      <td>9998</td>\n",
              "      <td>User9998</td>\n",
              "      <td>23.0</td>\n",
              "      <td>male</td>\n",
              "      <td>Smoker</td>\n",
              "      <td>NaN</td>\n",
              "      <td>148.833321</td>\n",
              "      <td>173.931480</td>\n",
              "      <td>Pneumonia</td>\n",
              "    </tr>\n",
              "    <tr>\n",
              "      <th>9998</th>\n",
              "      <td>9999</td>\n",
              "      <td>User9999</td>\n",
              "      <td>NaN</td>\n",
              "      <td>female</td>\n",
              "      <td>Non-Smoker</td>\n",
              "      <td>NaN</td>\n",
              "      <td>NaN</td>\n",
              "      <td>NaN</td>\n",
              "      <td>Pneumonia</td>\n",
              "    </tr>\n",
              "    <tr>\n",
              "      <th>9999</th>\n",
              "      <td>10000</td>\n",
              "      <td>User10000</td>\n",
              "      <td>27.0</td>\n",
              "      <td>male</td>\n",
              "      <td>Non-Smoker</td>\n",
              "      <td>25.454891</td>\n",
              "      <td>NaN</td>\n",
              "      <td>196.083267</td>\n",
              "      <td>Diabetic</td>\n",
              "    </tr>\n",
              "  </tbody>\n",
              "</table>\n",
              "<p>10000 rows × 9 columns</p>\n",
              "</div>"
            ],
            "text/plain": [
              "         id  full_name   age  gender smoking_status        bmi  \\\n",
              "0         1   User0001   NaN    male     Non-Smoker        NaN   \n",
              "1         2   User0002  30.0    male     Non-Smoker        NaN   \n",
              "2         3   User0003  18.0    male     Non-Smoker  35.612486   \n",
              "3         4   User0004   NaN    male     Non-Smoker        NaN   \n",
              "4         5   User0005  76.0    male     Non-Smoker        NaN   \n",
              "...     ...        ...   ...     ...            ...        ...   \n",
              "9995   9996   User9996   NaN    male     Non-Smoker  25.029002   \n",
              "9996   9997   User9997   NaN    male     Non-Smoker  27.017487   \n",
              "9997   9998   User9998  23.0    male         Smoker        NaN   \n",
              "9998   9999   User9999   NaN  female     Non-Smoker        NaN   \n",
              "9999  10000  User10000  27.0    male     Non-Smoker  25.454891   \n",
              "\n",
              "      blood_pressure  glucose_levels  condition  \n",
              "0                NaN             NaN  Pneumonia  \n",
              "1         105.315064             NaN   Diabetic  \n",
              "2                NaN             NaN  Pneumonia  \n",
              "3          99.119829             NaN  Pneumonia  \n",
              "4                NaN             NaN   Diabetic  \n",
              "...              ...             ...        ...  \n",
              "9995      152.540355      137.551451  Pneumonia  \n",
              "9996             NaN             NaN   Diabetic  \n",
              "9997      148.833321      173.931480  Pneumonia  \n",
              "9998             NaN             NaN  Pneumonia  \n",
              "9999             NaN      196.083267   Diabetic  \n",
              "\n",
              "[10000 rows x 9 columns]"
            ]
          },
          "execution_count": 8,
          "metadata": {},
          "output_type": "execute_result"
        }
      ],
      "source": [
        "df.drop_duplicates()"
      ]
    },
    {
      "cell_type": "code",
      "execution_count": null,
      "metadata": {
        "id": "DhjtCfTRm0ca",
        "outputId": "93796e31-3f53-436e-b7cb-2dea4e1405be"
      },
      "outputs": [
        {
          "data": {
            "text/plain": [
              "id                  int64\n",
              "full_name          object\n",
              "age               float64\n",
              "gender             object\n",
              "smoking_status     object\n",
              "bmi               float64\n",
              "blood_pressure    float64\n",
              "glucose_levels    float64\n",
              "condition          object\n",
              "dtype: object"
            ]
          },
          "execution_count": 9,
          "metadata": {},
          "output_type": "execute_result"
        }
      ],
      "source": [
        "df.dtypes"
      ]
    },
    {
      "cell_type": "code",
      "execution_count": null,
      "metadata": {
        "id": "Hh2iekrEm0cb"
      },
      "outputs": [],
      "source": [
        "df = df.drop(['id','full_name'],axis=1)"
      ]
    },
    {
      "cell_type": "code",
      "execution_count": null,
      "metadata": {
        "id": "v83eFwWXm0cb",
        "outputId": "772fbb43-4256-4f0d-a005-56c69dfdb011"
      },
      "outputs": [
        {
          "name": "stdout",
          "output_type": "stream",
          "text": [
            "Numeric Features :\n",
            "       age        bmi  blood_pressure  glucose_levels\n",
            "0      NaN        NaN             NaN             NaN\n",
            "1     30.0        NaN      105.315064             NaN\n",
            "2     18.0  35.612486             NaN             NaN\n",
            "3      NaN        NaN       99.119829             NaN\n",
            "4     76.0        NaN             NaN             NaN\n",
            "...    ...        ...             ...             ...\n",
            "9995   NaN  25.029002      152.540355      137.551451\n",
            "9996   NaN  27.017487             NaN             NaN\n",
            "9997  23.0        NaN      148.833321      173.931480\n",
            "9998   NaN        NaN             NaN             NaN\n",
            "9999  27.0  25.454891             NaN      196.083267\n",
            "\n",
            "[10000 rows x 4 columns]\n",
            "\n",
            "Object Features :\n",
            "      gender smoking_status  condition\n",
            "0       male     Non-Smoker  Pneumonia\n",
            "1       male     Non-Smoker   Diabetic\n",
            "2       male     Non-Smoker  Pneumonia\n",
            "3       male     Non-Smoker  Pneumonia\n",
            "4       male     Non-Smoker   Diabetic\n",
            "...      ...            ...        ...\n",
            "9995    male     Non-Smoker  Pneumonia\n",
            "9996    male     Non-Smoker   Diabetic\n",
            "9997    male         Smoker  Pneumonia\n",
            "9998  female     Non-Smoker  Pneumonia\n",
            "9999    male     Non-Smoker   Diabetic\n",
            "\n",
            "[10000 rows x 3 columns]\n",
            "\n"
          ]
        }
      ],
      "source": [
        "df_numeric_features = df.select_dtypes(include=['number'])\n",
        "print(f\"Numeric Features :\\n{df_numeric_features}\\n\")\n",
        "\n",
        "df_object_features= df.select_dtypes(include=['object'])\n",
        "print(f\"Object Features :\\n{df_object_features}\\n\")"
      ]
    },
    {
      "cell_type": "code",
      "execution_count": null,
      "metadata": {
        "id": "-PdT_i_hm0cc",
        "outputId": "e955c220-faa9-497f-fb85-d379c5285703"
      },
      "outputs": [
        {
          "data": {
            "text/plain": [
              "age               0\n",
              "bmi               0\n",
              "blood_pressure    0\n",
              "glucose_levels    0\n",
              "dtype: int64"
            ]
          },
          "execution_count": 12,
          "metadata": {},
          "output_type": "execute_result"
        }
      ],
      "source": [
        "from sklearn.impute import SimpleImputer\n",
        "\n",
        "imputer2 = SimpleImputer(strategy='mean')\n",
        "df_numeric_features = pd.DataFrame(imputer2.fit_transform(df_numeric_features), columns=df_numeric_features.columns)\n",
        "\n",
        "imputer1 = SimpleImputer(strategy='most_frequent')\n",
        "df_object_features = pd.DataFrame(imputer1.fit_transform(df_object_features), columns=df_object_features.columns)\n",
        "df_object_features.isnull().sum()\n",
        "df_numeric_features.isnull().sum()"
      ]
    },
    {
      "cell_type": "code",
      "execution_count": null,
      "metadata": {
        "id": "a8ZFWV7Km0cc",
        "outputId": "5fa569f1-a38f-43fe-c665-b12c004942fe"
      },
      "outputs": [
        {
          "name": "stdout",
          "output_type": "stream",
          "text": [
            "outliers - age :\n",
            "1       30.0\n",
            "2       18.0\n",
            "4       76.0\n",
            "5       40.0\n",
            "13      72.0\n",
            "        ... \n",
            "9990    83.0\n",
            "9992    85.0\n",
            "9994    34.0\n",
            "9997    23.0\n",
            "9999    27.0\n",
            "Name: age, Length: 3577, dtype: float64\n",
            "outliers - bmi :\n",
            "2       35.612486\n",
            "5       33.840723\n",
            "8       39.649679\n",
            "11      34.441275\n",
            "12      20.698672\n",
            "          ...    \n",
            "9990    26.125438\n",
            "9991    31.785857\n",
            "9995    25.029002\n",
            "9996    27.017487\n",
            "9999    25.454891\n",
            "Name: bmi, Length: 4652, dtype: float64\n",
            "outliers - blood_pressure :\n",
            "1       105.315064\n",
            "3        99.119829\n",
            "7       115.826322\n",
            "13      165.969984\n",
            "14      117.464790\n",
            "           ...    \n",
            "9988    132.998849\n",
            "9992     98.812356\n",
            "9993    127.165293\n",
            "9995    152.540355\n",
            "9997    148.833321\n",
            "Name: blood_pressure, Length: 3766, dtype: float64\n",
            "outliers - glucose_levels :\n",
            "6       153.151126\n",
            "7       199.339699\n",
            "10      187.633751\n",
            "11      158.375034\n",
            "17      135.330911\n",
            "           ...    \n",
            "9990    185.317924\n",
            "9994    181.152892\n",
            "9995    137.551451\n",
            "9997    173.931480\n",
            "9999    196.083267\n",
            "Name: glucose_levels, Length: 4756, dtype: float64\n"
          ]
        }
      ],
      "source": [
        "def find_outliers(column):\n",
        "    Q1 = column.quantile(0.25)\n",
        "    Q3 = column.quantile(0.75)\n",
        "    IQR = Q3 - Q1\n",
        "    lower_bound = Q1 - 1.5 * IQR\n",
        "    upper_bound = Q3 + 1.5 * IQR\n",
        "    return column[(column < lower_bound) | ( upper_bound < column)]\n",
        "\n",
        "for i, column in enumerate(df_numeric_features.columns):\n",
        "    outliers = find_outliers(df_numeric_features[column])\n",
        "    if(outliers.size>0):\n",
        "      print(f\"outliers - {column} :\\n{outliers}\")"
      ]
    },
    {
      "cell_type": "code",
      "execution_count": null,
      "metadata": {
        "id": "hCJP7UE3m0cd"
      },
      "outputs": [],
      "source": [
        "# import scipy.stats as stats\n",
        "\n",
        "# df_numeric_features['zscore_bmi'] = stats.zscore(df_numeric_features['bmi'])\n",
        "# df_numeric_features['zscore_age'] = stats.zscore(df_numeric_features['age'])\n",
        "# df_numeric_features.head()"
      ]
    },
    {
      "cell_type": "code",
      "execution_count": null,
      "metadata": {
        "id": "BVLTnxTPm0cd",
        "outputId": "9510ae2a-6f73-4a86-a630-84f0f9d658b2"
      },
      "outputs": [
        {
          "name": "stdout",
          "output_type": "stream",
          "text": [
            "null num gender            0\n",
            "smoking_status    0\n",
            "condition         0\n",
            "dtype: int64\n"
          ]
        }
      ],
      "source": [
        "# df_numeric_features.reset_index(drop=True, inplace=True)\n",
        "# df_object_features.reset_index(drop=True, inplace=True)\n",
        "\n",
        "print(\"null num\", df_object_features.isnull().sum())\n",
        "df = pd.concat([df_object_features,df_numeric_features], axis=1)"
      ]
    },
    {
      "cell_type": "code",
      "execution_count": null,
      "metadata": {
        "id": "FXn-BCKOm0cd"
      },
      "outputs": [],
      "source": [
        "# df=df[(-3< df['zscore_age']) & (df['zscore_age']<3) & (-3< df['zscore_bmi']) & (df['zscore_bmi']<3)]\n",
        "# df.head()"
      ]
    },
    {
      "cell_type": "code",
      "execution_count": null,
      "metadata": {
        "id": "4ySR58kxm0cd",
        "outputId": "c29cfd1d-7adb-439c-df32-8f2f79dc946a"
      },
      "outputs": [
        {
          "data": {
            "text/html": [
              "<div>\n",
              "<style scoped>\n",
              "    .dataframe tbody tr th:only-of-type {\n",
              "        vertical-align: middle;\n",
              "    }\n",
              "\n",
              "    .dataframe tbody tr th {\n",
              "        vertical-align: top;\n",
              "    }\n",
              "\n",
              "    .dataframe thead th {\n",
              "        text-align: right;\n",
              "    }\n",
              "</style>\n",
              "<table border=\"1\" class=\"dataframe\">\n",
              "  <thead>\n",
              "    <tr style=\"text-align: right;\">\n",
              "      <th></th>\n",
              "      <th>count</th>\n",
              "    </tr>\n",
              "    <tr>\n",
              "      <th>condition</th>\n",
              "      <th></th>\n",
              "    </tr>\n",
              "  </thead>\n",
              "  <tbody>\n",
              "    <tr>\n",
              "      <th>Diabetic</th>\n",
              "      <td>6013</td>\n",
              "    </tr>\n",
              "    <tr>\n",
              "      <th>Pneumonia</th>\n",
              "      <td>2527</td>\n",
              "    </tr>\n",
              "    <tr>\n",
              "      <th>Cancer</th>\n",
              "      <td>1460</td>\n",
              "    </tr>\n",
              "  </tbody>\n",
              "</table>\n",
              "</div>"
            ],
            "text/plain": [
              "           count\n",
              "condition       \n",
              "Diabetic    6013\n",
              "Pneumonia   2527\n",
              "Cancer      1460"
            ]
          },
          "execution_count": 17,
          "metadata": {},
          "output_type": "execute_result"
        }
      ],
      "source": [
        "df['condition'].value_counts().to_frame()"
      ]
    },
    {
      "cell_type": "code",
      "execution_count": null,
      "metadata": {
        "id": "f7Gk85E9m0ce"
      },
      "outputs": [],
      "source": [
        "# df = df.drop(['zscore_age','zscore_bmi'],axis=1)"
      ]
    },
    {
      "cell_type": "code",
      "execution_count": null,
      "metadata": {
        "id": "YTdhuHKgm0ce",
        "outputId": "930d17f5-e636-4062-a55f-6aa8a8a39dc3"
      },
      "outputs": [
        {
          "data": {
            "text/html": [
              "<div>\n",
              "<style scoped>\n",
              "    .dataframe tbody tr th:only-of-type {\n",
              "        vertical-align: middle;\n",
              "    }\n",
              "\n",
              "    .dataframe tbody tr th {\n",
              "        vertical-align: top;\n",
              "    }\n",
              "\n",
              "    .dataframe thead th {\n",
              "        text-align: right;\n",
              "    }\n",
              "</style>\n",
              "<table border=\"1\" class=\"dataframe\">\n",
              "  <thead>\n",
              "    <tr style=\"text-align: right;\">\n",
              "      <th></th>\n",
              "      <th>gender</th>\n",
              "      <th>smoking_status</th>\n",
              "      <th>condition</th>\n",
              "      <th>age</th>\n",
              "      <th>bmi</th>\n",
              "      <th>blood_pressure</th>\n",
              "      <th>glucose_levels</th>\n",
              "    </tr>\n",
              "  </thead>\n",
              "  <tbody>\n",
              "    <tr>\n",
              "      <th>0</th>\n",
              "      <td>1</td>\n",
              "      <td>1</td>\n",
              "      <td>1</td>\n",
              "      <td>53.541598</td>\n",
              "      <td>27.423420</td>\n",
              "      <td>135.209429</td>\n",
              "      <td>135.219608</td>\n",
              "    </tr>\n",
              "    <tr>\n",
              "      <th>1</th>\n",
              "      <td>1</td>\n",
              "      <td>1</td>\n",
              "      <td>2</td>\n",
              "      <td>30.000000</td>\n",
              "      <td>27.423420</td>\n",
              "      <td>105.315064</td>\n",
              "      <td>135.219608</td>\n",
              "    </tr>\n",
              "    <tr>\n",
              "      <th>2</th>\n",
              "      <td>1</td>\n",
              "      <td>1</td>\n",
              "      <td>1</td>\n",
              "      <td>18.000000</td>\n",
              "      <td>35.612486</td>\n",
              "      <td>135.209429</td>\n",
              "      <td>135.219608</td>\n",
              "    </tr>\n",
              "    <tr>\n",
              "      <th>3</th>\n",
              "      <td>1</td>\n",
              "      <td>1</td>\n",
              "      <td>1</td>\n",
              "      <td>53.541598</td>\n",
              "      <td>27.423420</td>\n",
              "      <td>99.119829</td>\n",
              "      <td>135.219608</td>\n",
              "    </tr>\n",
              "    <tr>\n",
              "      <th>4</th>\n",
              "      <td>1</td>\n",
              "      <td>1</td>\n",
              "      <td>2</td>\n",
              "      <td>76.000000</td>\n",
              "      <td>27.423420</td>\n",
              "      <td>135.209429</td>\n",
              "      <td>135.219608</td>\n",
              "    </tr>\n",
              "    <tr>\n",
              "      <th>...</th>\n",
              "      <td>...</td>\n",
              "      <td>...</td>\n",
              "      <td>...</td>\n",
              "      <td>...</td>\n",
              "      <td>...</td>\n",
              "      <td>...</td>\n",
              "      <td>...</td>\n",
              "    </tr>\n",
              "    <tr>\n",
              "      <th>9995</th>\n",
              "      <td>1</td>\n",
              "      <td>1</td>\n",
              "      <td>1</td>\n",
              "      <td>53.541598</td>\n",
              "      <td>25.029002</td>\n",
              "      <td>152.540355</td>\n",
              "      <td>137.551451</td>\n",
              "    </tr>\n",
              "    <tr>\n",
              "      <th>9996</th>\n",
              "      <td>1</td>\n",
              "      <td>1</td>\n",
              "      <td>2</td>\n",
              "      <td>53.541598</td>\n",
              "      <td>27.017487</td>\n",
              "      <td>135.209429</td>\n",
              "      <td>135.219608</td>\n",
              "    </tr>\n",
              "    <tr>\n",
              "      <th>9997</th>\n",
              "      <td>1</td>\n",
              "      <td>2</td>\n",
              "      <td>1</td>\n",
              "      <td>23.000000</td>\n",
              "      <td>27.423420</td>\n",
              "      <td>148.833321</td>\n",
              "      <td>173.931480</td>\n",
              "    </tr>\n",
              "    <tr>\n",
              "      <th>9998</th>\n",
              "      <td>2</td>\n",
              "      <td>1</td>\n",
              "      <td>1</td>\n",
              "      <td>53.541598</td>\n",
              "      <td>27.423420</td>\n",
              "      <td>135.209429</td>\n",
              "      <td>135.219608</td>\n",
              "    </tr>\n",
              "    <tr>\n",
              "      <th>9999</th>\n",
              "      <td>1</td>\n",
              "      <td>1</td>\n",
              "      <td>2</td>\n",
              "      <td>27.000000</td>\n",
              "      <td>25.454891</td>\n",
              "      <td>135.209429</td>\n",
              "      <td>196.083267</td>\n",
              "    </tr>\n",
              "  </tbody>\n",
              "</table>\n",
              "<p>10000 rows × 7 columns</p>\n",
              "</div>"
            ],
            "text/plain": [
              "      gender  smoking_status  condition        age        bmi  blood_pressure  \\\n",
              "0          1               1          1  53.541598  27.423420      135.209429   \n",
              "1          1               1          2  30.000000  27.423420      105.315064   \n",
              "2          1               1          1  18.000000  35.612486      135.209429   \n",
              "3          1               1          1  53.541598  27.423420       99.119829   \n",
              "4          1               1          2  76.000000  27.423420      135.209429   \n",
              "...      ...             ...        ...        ...        ...             ...   \n",
              "9995       1               1          1  53.541598  25.029002      152.540355   \n",
              "9996       1               1          2  53.541598  27.017487      135.209429   \n",
              "9997       1               2          1  23.000000  27.423420      148.833321   \n",
              "9998       2               1          1  53.541598  27.423420      135.209429   \n",
              "9999       1               1          2  27.000000  25.454891      135.209429   \n",
              "\n",
              "      glucose_levels  \n",
              "0         135.219608  \n",
              "1         135.219608  \n",
              "2         135.219608  \n",
              "3         135.219608  \n",
              "4         135.219608  \n",
              "...              ...  \n",
              "9995      137.551451  \n",
              "9996      135.219608  \n",
              "9997      173.931480  \n",
              "9998      135.219608  \n",
              "9999      196.083267  \n",
              "\n",
              "[10000 rows x 7 columns]"
            ]
          },
          "execution_count": 19,
          "metadata": {},
          "output_type": "execute_result"
        }
      ],
      "source": [
        "import category_encoders as ce\n",
        "oe = ce.OrdinalEncoder()\n",
        "df = oe.fit_transform(df)\n",
        "df"
      ]
    },
    {
      "cell_type": "code",
      "execution_count": null,
      "metadata": {
        "id": "W1Rkbl_2m0ce"
      },
      "outputs": [],
      "source": [
        "from sklearn.model_selection import train_test_split\n",
        "\n",
        "x = df.drop('condition',axis=1)\n",
        "y = df['condition']\n",
        "\n",
        "x_train,x_test,y_train,y_test =train_test_split(x,y,test_size=0.2,random_state=42)"
      ]
    },
    {
      "cell_type": "code",
      "execution_count": null,
      "metadata": {
        "id": "z-kmyeczm0ce"
      },
      "outputs": [],
      "source": [
        "from sklearn.metrics import confusion_matrix,accuracy_score,recall_score,precision_score,f1_score,classification_report\n",
        "from sklearn.model_selection import train_test_split,GridSearchCV,RandomizedSearchCV\n",
        "from sklearn.preprocessing import LabelEncoder,StandardScaler\n",
        "from sklearn.ensemble import RandomForestClassifier"
      ]
    },
    {
      "cell_type": "code",
      "execution_count": null,
      "metadata": {
        "id": "dib_IjQTm0ce"
      },
      "outputs": [],
      "source": [
        "scaler = StandardScaler()\n",
        "x_train = scaler.fit_transform(x_train)\n",
        "x_test = scaler.fit_transform(x_test)"
      ]
    },
    {
      "cell_type": "code",
      "execution_count": null,
      "metadata": {
        "id": "0PRrrMISm0ce",
        "outputId": "b97be48c-7db5-4e33-9fe4-88022510bbac"
      },
      "outputs": [
        {
          "name": "stdout",
          "output_type": "stream",
          "text": [
            "confusion_matrix:\n",
            " [[140 319  26]\n",
            " [378 778  61]\n",
            " [ 96 190  12]]\n",
            "accuracy_score: 0.465\n",
            "recall_score: 0.465\n",
            "precision_score: 0.465\n",
            "\n",
            "Classification Report:\n",
            "              precision    recall  f1-score   support\n",
            "\n",
            "           1       0.23      0.29      0.25       485\n",
            "           2       0.60      0.64      0.62      1217\n",
            "           3       0.12      0.04      0.06       298\n",
            "\n",
            "    accuracy                           0.47      2000\n",
            "   macro avg       0.32      0.32      0.31      2000\n",
            "weighted avg       0.44      0.47      0.45      2000\n",
            "\n"
          ]
        }
      ],
      "source": [
        "rf = RandomForestClassifier(random_state=42)\n",
        "rf.fit(x_train, y_train)\n",
        "y_pred = rf.predict(x_test)\n",
        "\n",
        "print(\"confusion_matrix:\\n\", confusion_matrix(y_test, y_pred))\n",
        "print(\"accuracy_score:\", accuracy_score(y_test, y_pred))\n",
        "print(\"recall_score:\", recall_score(y_test, y_pred,average='micro'))\n",
        "print(\"precision_score:\", precision_score(y_test, y_pred,average='micro'))\n",
        "print(f\"\\nClassification Report:\\n{classification_report(y_test, y_pred )}\")"
      ]
    },
    {
      "cell_type": "code",
      "execution_count": null,
      "metadata": {
        "id": "ya-IyAqcm0cf",
        "outputId": "c6b6e327-7124-491b-edd3-8bd46dee56fa"
      },
      "outputs": [
        {
          "name": "stdout",
          "output_type": "stream",
          "text": [
            "confusion_matrix:\n",
            " [[  11  472    2]\n",
            " [   9 1202    6]\n",
            " [   3  293    2]]\n",
            "accuracy_score: 0.6075\n",
            "recall_score: 0.6075\n",
            "precision_score: 0.6075\n",
            "\n",
            "Classification Report:\n",
            "              precision    recall  f1-score   support\n",
            "\n",
            "           1       0.48      0.02      0.04       485\n",
            "           2       0.61      0.99      0.76      1217\n",
            "           3       0.20      0.01      0.01       298\n",
            "\n",
            "    accuracy                           0.61      2000\n",
            "   macro avg       0.43      0.34      0.27      2000\n",
            "weighted avg       0.52      0.61      0.47      2000\n",
            "\n"
          ]
        }
      ],
      "source": [
        "from sklearn.svm import SVC\n",
        "svc=SVC(C=100)\n",
        "svc.fit(x_train,y_train)\n",
        "y_pred=svc.predict(x_test)\n",
        "print(\"confusion_matrix:\\n\", confusion_matrix(y_test, y_pred))\n",
        "print(\"accuracy_score:\", accuracy_score(y_test, y_pred))\n",
        "print(\"recall_score:\", recall_score(y_test, y_pred,average='micro'))\n",
        "print(\"precision_score:\", precision_score(y_test, y_pred,average='micro'))\n",
        "print(f\"\\nClassification Report:\\n{classification_report(y_test, y_pred )}\")"
      ]
    },
    {
      "cell_type": "code",
      "execution_count": null,
      "metadata": {
        "id": "JqsnJKTfm0cf"
      },
      "outputs": [],
      "source": [
        "linear_svc1000=SVC(C=100,kernel='linear')\n",
        "linear_svc1000.fit(x_train, y_train)\n",
        "y_pred=linear_svc1000.predict(x_test)\n",
        "print(\"confusion_matrix:\\n\", confusion_matrix(y_test, y_pred))\n",
        "print(\"accuracy_score:\", accuracy_score(y_test, y_pred))\n",
        "print(\"recall_score:\", recall_score(y_test, y_pred,average='micro'))\n",
        "print(\"precision_score:\", precision_score(y_test, y_pred,average='micro'))\n",
        "print(f\"\\nClassification Report:\\n{classification_report(y_test, y_pred )}\")\n"
      ]
    },
    {
      "cell_type": "code",
      "execution_count": null,
      "metadata": {
        "id": "rrh5ieZ3m0cf"
      },
      "outputs": [],
      "source": []
    }
  ],
  "metadata": {
    "kernelspec": {
      "display_name": "Python 3",
      "language": "python",
      "name": "python3"
    },
    "language_info": {
      "codemirror_mode": {
        "name": "ipython",
        "version": 3
      },
      "file_extension": ".py",
      "mimetype": "text/x-python",
      "name": "python",
      "nbconvert_exporter": "python",
      "pygments_lexer": "ipython3",
      "version": "3.12.6"
    },
    "colab": {
      "provenance": [],
      "include_colab_link": true
    }
  },
  "nbformat": 4,
  "nbformat_minor": 0
}